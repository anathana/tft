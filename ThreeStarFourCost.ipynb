{
 "cells": [
  {
   "cell_type": "markdown",
   "id": "4db4e91b",
   "metadata": {},
   "source": [
    "# PepoG Session \\#1: 3-Star 4-Cost Units"
   ]
  },
  {
   "cell_type": "markdown",
   "id": "e7bec9b2",
   "metadata": {},
   "source": [
    "by: [anathana](https://lolchess.gg/profile/na/anathana) - NA Challenger  "
   ]
  },
  {
   "cell_type": "markdown",
   "id": "37f53fea",
   "metadata": {},
   "source": [
    "## A. Introduction: Why do we care about 3-Star 4-Cost Units?\n",
    "- Making a 3-Star 4-Cost will almost always result in a 1st\n",
    "- The probability of hitting a 3-Star 4-Cost is unclear\n",
    "  - In most situations, players decide to roll at 8 for a 3-Star 4-Cost or to level to 9 based off gut feeling\n",
    "  - This results in the following problems:\n",
    "  - 1. Players that had a high probability of hitting a 3-Star 4-Cost (almost certainly a first) decide to level to 9 and instead only place Top 4\n",
    "  - 2. Players that had a low probability of hitting a 3-Star 4-Cost decide to roll at 8 and then place lower than they would have if they had leveled to 9.\n",
    "- Objective: **PROVIDE CLARITY** about the odds of hitting a 3-Star 4-Cost"
   ]
  },
  {
   "cell_type": "markdown",
   "id": "9a2aa1fe",
   "metadata": {},
   "source": [
    "## B. Simulate Rolls: How do units appear in the shop?\n",
    "- At the beginning of every round, a players shop is *refreshed* - meaning that 5 new units appear in the players shop\n",
    "  - Players have the option to refresh the shop again (5 new units appear) at the cost of 2 gold per roll\n",
    "- For each roll / refresh, units are generated in the shop based off the following two rules:\n",
    "- 1. Cost of unit based off level\n",
    "- 2. Type of unit based off the determined cost of unit.\n",
    "  - Given a determined cost of unit, the type of unit is then selected at random from a shared pool of available units"
   ]
  },
  {
   "cell_type": "markdown",
   "id": "6a795880",
   "metadata": {},
   "source": [
    "## C. Simulation Construction.\n",
    "- First, we can read in constant data such as champion data, number of units, and rolling probability"
   ]
  },
  {
   "cell_type": "code",
   "execution_count": 4,
   "id": "324282eb-1f6d-4863-b2da-21f896d96395",
   "metadata": {},
   "outputs": [
    {
     "name": "stdout",
     "output_type": "stream",
     "text": [
      "CHAMPION DATA:\n",
      "            name  cost\n",
      "36         taric     3\n",
      "6         illaoi     1\n",
      "54         kaisa     5\n",
      "8          poppy     1\n",
      "33  miss_fortune     3\n",
      "14      katarina     2\n",
      "\n",
      "NUMBER OF UNITS:\n",
      "1    29\n",
      "2    22\n",
      "3    18\n",
      "4    12\n",
      "5    10\n",
      "dtype: int64\n",
      "\n",
      "ROLLING PROBABILITY:\n",
      "   1   2     3     4     5     6     7     8     9     10    11\n",
      "1   1   1  0.75  0.55  0.45  0.25  0.19  0.15  0.10  0.05  0.01\n",
      "2   0   0  0.25  0.30  0.33  0.40  0.30  0.20  0.15  0.10  0.02\n",
      "3   0   0  0.00  0.15  0.20  0.30  0.35  0.35  0.30  0.20  0.12\n",
      "4   0   0  0.00  0.00  0.20  0.50  0.15  0.25  0.30  0.40  0.50\n",
      "5   0   0  0.00  0.00  0.00  0.00  0.01  0.05  0.15  0.25  0.35\n"
     ]
    }
   ],
   "source": [
    "import numpy as np\n",
    "import pandas as pd\n",
    "from scipy.special import comb\n",
    "import matplotlib.pyplot as plt\n",
    "from IPython.display import Image\n",
    "\n",
    "champion_data = pd.read_csv('data/tftset6champions.csv')\n",
    "unit_pool_data = pd.read_json('data/unitpool.json', typ='series')\n",
    "rolling_probability_data = pd.read_json('data/rollprobability.json')\n",
    "\n",
    "np.set_printoptions(precision=6, linewidth=110)\n",
    "pd.set_option('display.width', 100)\n",
    "\n",
    "print('CHAMPION DATA:')\n",
    "print(champion_data[['name', 'cost']].sample(frac=.1))\n",
    "print('\\nNUMBER OF UNITS:')\n",
    "print(unit_pool_data)\n",
    "print('\\nROLLING PROBABILITY:')\n",
    "rolling_probability_data.index += 1\n",
    "print(rolling_probability_data)"
   ]
  },
  {
   "cell_type": "markdown",
   "id": "2786e95f",
   "metadata": {},
   "source": [
    "## D. Roll Node Naive.\n",
    "- Our first model will proceed as follows:\n",
    "  - Each node represents a single state: \\<Current number of units (the unit we are trying to 3-star)\\>\n",
    "  - All nodes share constant data \\<Level, Cost of unit (the unit we are trying to 3-star)\\>\n",
    "  - A single roll is represented by moving from the left node, to the nodes on the right column"
   ]
  },
  {
   "cell_type": "code",
   "execution_count": 5,
   "id": "73bb9e3d",
   "metadata": {},
   "outputs": [
    {
     "data": {
      "text/html": [
       "<img src=\"images/RollNodeNaive.png\" width=\"800\" height=\"800\"/>"
      ],
      "text/plain": [
       "<IPython.core.display.Image object>"
      ]
     },
     "execution_count": 5,
     "metadata": {},
     "output_type": "execute_result"
    }
   ],
   "source": [
    "Image(url= \"images/RollNodeNaive.png\", width=800, height=800)"
   ]
  },
  {
   "cell_type": "code",
   "execution_count": 6,
   "id": "a95aad35-a15e-4431-95b0-862c49cf7081",
   "metadata": {},
   "outputs": [
    {
     "name": "stdout",
     "output_type": "stream",
     "text": [
      "State probabilities of roll node naive:\n",
      "LEVEL: 8\n",
      "COST: 4\n",
      "               +0        +1        +2        +3            +4            +5\n",
      "Current                                                                    \n",
      "0        0.850012  0.141132  0.008614  0.000240  3.006593e-06  1.344802e-08\n",
      "1        0.860775  0.131693  0.007345  0.000185  2.072493e-06  8.153525e-09\n",
      "2        0.871816  0.121893  0.006151  0.000138  1.364039e-06  4.623860e-09\n",
      "3        0.883146  0.111716  0.005038  0.000100  8.466949e-07  2.404407e-09\n",
      "4        0.894775  0.101144  0.004012  0.000068  4.867725e-07  1.111715e-09\n",
      "5        0.906714  0.090160  0.003082  0.000044  2.519371e-07  4.338401e-10\n",
      "6        0.918974  0.078745  0.002255  0.000026  1.117991e-07  1.290344e-10\n",
      "7        0.931567  0.066879  0.001540  0.000013  3.859835e-08  2.239440e-11\n",
      "8        0.944507  0.054541  0.000947  0.000005  7.998000e-09  0.000000e+00\n"
     ]
    }
   ],
   "source": [
    "UNIT_MAX = None\n",
    "POOL_MAX = None\n",
    "P_N_COST = None\n",
    "DIST_N_COST = None\n",
    "\n",
    "def config_rolldown(level, n_cost):\n",
    "    global UNIT_MAX, POOL_MAX, P_N_COST, DIST_N_COST\n",
    "    UNIT_MAX = unit_pool_data[n_cost]\n",
    "    POOL_MAX = UNIT_MAX * champion_data[champion_data['cost'] == n_cost]['cost'].size\n",
    "    P_N_COST = rolling_probability_data[level][n_cost - 1]\n",
    "    DIST_N_COST = binary_dist(5, P_N_COST)\n",
    "    \n",
    "def binary_dist(n, p):\n",
    "    prob_density = np.zeros(n + 1)\n",
    "    for k in range(n + 1):\n",
    "        prob_density[k] = comb(n, k) * np.power(p, k) * np.power(1 - p, n - k)\n",
    "    return prob_density\n",
    "\n",
    "# row is number of unit pulled from bag, column is number of hits\n",
    "def bag_dist(n, pool, unit):\n",
    "    prob_density = np.zeros((n + 1, n + 1))\n",
    "    for i in range(prob_density.shape[0]):\n",
    "        for j in range(prob_density.shape[1]):\n",
    "            prob_density[i][j] = comb(unit, j) * comb(pool - unit, i - j) / comb(pool, i)\n",
    "    return prob_density\n",
    "\n",
    "def roll_node_naive(current, current_contested=None, current_uncontested=None):\n",
    "    bag_dist_array = bag_dist(5, POOL_MAX - current, UNIT_MAX - current)\n",
    "    hit_dist_array = np.matmul(DIST_N_COST, bag_dist_array)\n",
    "    return hit_dist_array\n",
    "\n",
    "level = 8\n",
    "n_cost = 4\n",
    "config_rolldown(level, n_cost)\n",
    "\n",
    "naive_roll_node_matrix = np.zeros((9, 6))\n",
    "for current in np.arange(9):\n",
    "    naive_roll_node_matrix[current] = roll_node_naive(current)\n",
    "\n",
    "print('State probabilities of roll node naive:')\n",
    "print('LEVEL: ' + str(level))\n",
    "print('COST: ' + str(n_cost))\n",
    "naive_roll_node_dataframe = pd.DataFrame(naive_roll_node_matrix).rename(columns={0: '+0', 1: '+1', 2: '+2', 3: '+3', 4: '+4', 5: '+5'})\n",
    "naive_roll_node_dataframe.index.rename('Current', inplace=True)\n",
    "print(naive_roll_node_dataframe)\n"
   ]
  },
  {
   "cell_type": "markdown",
   "id": "7dbf5edc",
   "metadata": {},
   "source": [
    "## E. Roll Node Improved.\n",
    "- Because Units are in a shared pool, it will be harder to 3-star our unit if other players have that unit out of the pool. Similarily, it will be easier to 3-star our unit if other players have taken many same-cost units that do not contest our unit out of the pool.\n",
    "- Therefore, we can consider 2 new fields in constant data: **Number of Units Contested**, **Number of Units Uncontested**\n",
    "- Our second model will proceed as follows:\n",
    "  - Each node represents a single state: \\<Current number of units (the unit we are trying to 3-star)\\>\n",
    "  - All nodes share constant data \\<Level, Cost of unit (the unit we are trying to 3-star), **Number of Units Contested**, **Number of Units Uncontested**\\>\n",
    "  - A single roll is represented by moving from the left node, to the nodes on the right column"
   ]
  },
  {
   "cell_type": "code",
   "execution_count": 140,
   "id": "bf3f1932",
   "metadata": {},
   "outputs": [
    {
     "data": {
      "text/html": [
       "<img src=\"images/RollNodeImproved.png\" width=\"800\" height=\"800\"/>"
      ],
      "text/plain": [
       "<IPython.core.display.Image object>"
      ]
     },
     "execution_count": 140,
     "metadata": {},
     "output_type": "execute_result"
    }
   ],
   "source": [
    "Image(url= \"images/RollNodeImproved.png\", width=800, height=800)"
   ]
  },
  {
   "cell_type": "code",
   "execution_count": 7,
   "id": "b649adfa-285c-4209-93a8-db44dfbcf9cb",
   "metadata": {},
   "outputs": [
    {
     "name": "stdout",
     "output_type": "stream",
     "text": [
      "State probabilities of roll node improved:\n",
      "LEVEL: 8\n",
      "COST: 4\n",
      "CONTESTED: 0\n",
      "UNCONTESTED: 18\n",
      "               +0        +1        +2        +3            +4            +5\n",
      "Current                                                                    \n",
      "0        0.827955  0.160260  0.011409  0.000370  5.424209e-06  2.833542e-08\n",
      "1        0.839995  0.149951  0.009764  0.000287  3.759085e-06  1.728721e-08\n",
      "2        0.852395  0.139181  0.008206  0.000216  2.487624e-06  9.865931e-09\n",
      "3        0.865171  0.127926  0.006746  0.000156  1.552732e-06  5.163478e-09\n",
      "4        0.878338  0.116160  0.005393  0.000108  8.977400e-07  2.403128e-09\n",
      "5        0.891914  0.103857  0.004159  0.000070  4.673226e-07  9.440860e-10\n",
      "6        0.905916  0.090987  0.003055  0.000041  2.085974e-07  2.827071e-10\n",
      "7        0.920363  0.077520  0.002096  0.000021  7.244908e-08  4.940512e-11\n",
      "8        0.935274  0.063423  0.001294  0.000009  1.510385e-08  0.000000e+00\n",
      "\n",
      "\n",
      "State probabilities of roll node improved:\n",
      "LEVEL: 8\n",
      "COST: 4\n",
      "CONTESTED: 3\n",
      "UNCONTESTED: 18\n",
      "               +0        +1        +2        +3            +4            +5\n",
      "Current                                                                    \n",
      "0        0.865171  0.127926  0.006746  0.000156  1.552732e-06  5.163478e-09\n",
      "1        0.878338  0.116160  0.005393  0.000108  8.977400e-07  2.403128e-09\n",
      "2        0.891914  0.103857  0.004159  0.000070  4.673226e-07  9.440860e-10\n",
      "3        0.905916  0.090987  0.003055  0.000041  2.085974e-07  2.827071e-10\n",
      "4        0.920363  0.077520  0.002096  0.000021  7.244908e-08  4.940512e-11\n",
      "5        0.935274  0.063423  0.001294  0.000009  1.510385e-08  0.000000e+00\n",
      "6        0.950671  0.048661  0.000666  0.000002  0.000000e+00  0.000000e+00\n",
      "7        0.966575  0.033196  0.000229  0.000000  0.000000e+00  0.000000e+00\n",
      "8        0.983010  0.016990  0.000000  0.000000  0.000000e+00  0.000000e+00\n"
     ]
    }
   ],
   "source": [
    "def roll_node_improved(current, current_contested, current_uncontested):\n",
    "    bag_dist_array = bag_dist(5, POOL_MAX - current - current_contested - current_uncontested, UNIT_MAX - current - current_contested)\n",
    "    hit_dist_array = np.matmul(DIST_N_COST, bag_dist_array)\n",
    "    return hit_dist_array\n",
    "\n",
    "\n",
    "level = 8\n",
    "n_cost = 4\n",
    "contested = 0\n",
    "uncontested = 18\n",
    "config_rolldown(level, n_cost)\n",
    "\n",
    "def display_probability_roll_node_improved(level, n_cost, contested, uncontested):\n",
    "    improved_roll_node_matrix = np.zeros((9, 6))\n",
    "    for current in np.arange(9):\n",
    "        improved_roll_node_matrix[current] = roll_node_improved(current, contested, uncontested)\n",
    "\n",
    "    print('State probabilities of roll node improved:')\n",
    "    print('LEVEL: ' + str(level))\n",
    "    print('COST: ' + str(n_cost))\n",
    "    print('CONTESTED: ' + str(contested))\n",
    "    print('UNCONTESTED: ' + str(uncontested))\n",
    "    improved_roll_node_dataframe = pd.DataFrame(improved_roll_node_matrix).rename(columns={0: '+0', 1: '+1', 2: '+2', 3: '+3', 4: '+4', 5: '+5'})\n",
    "    improved_roll_node_dataframe.index.rename('Current', inplace=True)\n",
    "    print(improved_roll_node_dataframe)\n",
    "\n",
    "display_probability_roll_node_improved(level, n_cost, contested, uncontested)\n",
    "\n",
    "contested = 3\n",
    "uncontested = 18\n",
    "\n",
    "print('\\n')\n",
    "display_probability_roll_node_improved(level, n_cost, contested, uncontested)\n",
    "\n"
   ]
  },
  {
   "cell_type": "markdown",
   "id": "c96d2c9e",
   "metadata": {},
   "source": [
    "## F. Model Rolldown.\n",
    "- Using roll node improved, we can determine the probability of moving to another state for a single roll.\n",
    "- *Objective*: determine the probability of hitting a 3-star 4-cost unit given a starting state (current number of units) and *n* rolls.  \n",
    "\n",
    "### Model Construction.\n",
    "- Construct 10 states \\{0, 1, 2, 3, 4, 5, 6, 7, 8, 9\\} that correspond to the number of the desired unit obtained.\n",
    "- Generate stochastic matrix (markov chain) that determines probability of moving states"
   ]
  },
  {
   "cell_type": "code",
   "execution_count": 8,
   "id": "ab4c87bb-4717-46da-a580-4434ceb28af9",
   "metadata": {},
   "outputs": [
    {
     "name": "stdout",
     "output_type": "stream",
     "text": [
      "Stochastic Matrix of roll node improved:\n",
      "LEVEL: 8\n",
      "COST: 4\n",
      "CONTESTED: 0\n",
      "UNCONTESTED: 18\n",
      "STARTING CURRENT: 0\n",
      "                0         1         2         3         4             5             6  \\\n",
      "Current                                                                                 \n",
      "0        0.827955  0.160260  0.011409  0.000370  0.000005  2.833542e-08  0.000000e+00   \n",
      "1        0.000000  0.839995  0.149951  0.009764  0.000287  3.759085e-06  1.728721e-08   \n",
      "2        0.000000  0.000000  0.852395  0.139181  0.008206  2.156879e-04  2.487624e-06   \n",
      "3        0.000000  0.000000  0.000000  0.865171  0.127926  6.745912e-03  1.561025e-04   \n",
      "4        0.000000  0.000000  0.000000  0.000000  0.878338  1.161600e-01  5.393119e-03   \n",
      "5        0.000000  0.000000  0.000000  0.000000  0.000000  8.919142e-01  1.038568e-01   \n",
      "6        0.000000  0.000000  0.000000  0.000000  0.000000  0.000000e+00  9.059162e-01   \n",
      "7        0.000000  0.000000  0.000000  0.000000  0.000000  0.000000e+00  0.000000e+00   \n",
      "8        0.000000  0.000000  0.000000  0.000000  0.000000  0.000000e+00  0.000000e+00   \n",
      "9        0.000000  0.000000  0.000000  0.000000  0.000000  0.000000e+00  0.000000e+00   \n",
      "\n",
      "                    7             8             9  \n",
      "Current                                            \n",
      "0        0.000000e+00  0.000000e+00  0.000000e+00  \n",
      "1        0.000000e+00  0.000000e+00  0.000000e+00  \n",
      "2        9.865931e-09  0.000000e+00  0.000000e+00  \n",
      "3        1.552732e-06  5.163478e-09  0.000000e+00  \n",
      "4        1.076351e-04  8.977400e-07  2.403128e-09  \n",
      "5        4.158921e-03  6.960207e-05  4.682667e-07  \n",
      "6        9.098706e-02  3.055417e-03  4.137386e-05  \n",
      "7        9.203629e-01  7.751999e-02  2.117128e-03  \n",
      "8        0.000000e+00  9.352741e-01  6.472586e-02  \n",
      "9        0.000000e+00  0.000000e+00  1.000000e+00  \n"
     ]
    }
   ],
   "source": [
    "def generate_markov_chain(current, current_contested, current_uncontested, roll_node_func):\n",
    "    stochastic = np.zeros((10, 10))\n",
    "    for i in np.arange(10):\n",
    "        roll = roll_node_func(i, current_contested, current_uncontested)\n",
    "        if i + 6 <= 10:\n",
    "            stochastic[i][i:i+6] = roll\n",
    "        else:\n",
    "            over = i - (len(stochastic) - len(roll))\n",
    "            roll[len(roll) - over - 1] += np.sum(roll[len(roll) - over:])\n",
    "            stochastic[i][i:i+6-over] = roll[0:6-over]\n",
    "    return stochastic\n",
    "\n",
    "def generate_starting_units(n):\n",
    "    assert n >= 0 and n <= 9\n",
    "    return np.concatenate((np.zeros(n), np.ones(1), np.zeros(9 - n)), axis=None)\n",
    "\n",
    "starting_current = 0\n",
    "contested = 0\n",
    "uncontested = 18\n",
    "print('Stochastic Matrix of roll node improved:')\n",
    "print('LEVEL: ' + str(level))\n",
    "print('COST: ' + str(n_cost))\n",
    "print('CONTESTED: ' + str(contested))\n",
    "print('UNCONTESTED: ' + str(uncontested)) \n",
    "print('STARTING CURRENT: ' + str(starting_current))\n",
    "stochastic_data = generate_markov_chain(starting_current, contested, uncontested, roll_node_improved)\n",
    "stochastic_display = pd.DataFrame(stochastic_data)\n",
    "stochastic_display.index.rename('Current', inplace=True)\n",
    "print(stochastic_display)"
   ]
  },
  {
   "cell_type": "markdown",
   "id": "119f642b",
   "metadata": {},
   "source": [
    "### "
   ]
  },
  {
   "cell_type": "markdown",
   "id": "d9971927",
   "metadata": {},
   "source": [
    "### Markov Chain Modeling:\n",
    "- Note: Each row of our stochastic sums to 1, therefore it is a **right stochastic matrix**\n",
    "- Due to the properties of Markov Chains, matrix multiplying our state vector and stochastic matrix *n* times is equivalent to rolling *n* times, we can model as follows:\n",
    "  - Starting state can be represented as a 1x10 vector with all zeros and a one at the starting number of units (because there is a 100 percent probability of having that number of units before rolling).\n",
    "    - Ex. Begin rolling holding 4 units, $start=\\begin{bmatrix}0 & 0 & 0 & 0 & 1 & 0 & 0 & 0 & 0 & 0 & 0\\end{bmatrix}$\n",
    "  - Given a stochastic matrix *S*, we can produce the output probabilities of ending up in a given state (1x10) by mutiplying *n* of the same stochastic matrices, one for each roll.\n",
    "    - Ex. Roll 8 times, $start(S^8)=output$"
   ]
  },
  {
   "cell_type": "code",
   "execution_count": 10,
   "id": "c9e10fb3-7efe-4b84-98bf-0cb5d742a7c2",
   "metadata": {},
   "outputs": [
    {
     "name": "stdout",
     "output_type": "stream",
     "text": [
      "Rolldown probabilities of roll_node_improved:\n",
      "LEVEL: 8\n",
      "COST: 4\n",
      "CONTESTED: 0\n",
      "UNCONTESTED: 18\n",
      "STARTING CURRENT: 4\n",
      "        0    1    2    3         4         5         6         7         8         9\n",
      "Roll                                                                                \n",
      "0     0.0  0.0  0.0  0.0  1.000000  0.000000  0.000000  0.000000  0.000000  0.000000\n",
      "5     0.0  0.0  0.0  0.0  0.522768  0.356532  0.102738  0.016310  0.001557  0.000095\n",
      "10    0.0  0.0  0.0  0.0  0.273287  0.387624  0.237295  0.081861  0.017399  0.002534\n",
      "15    0.0  0.0  0.0  0.0  0.142866  0.316224  0.304308  0.166269  0.056409  0.013923\n",
      "20    0.0  0.0  0.0  0.0  0.074686  0.229425  0.307586  0.235061  0.111992  0.041250\n",
      "25    0.0  0.0  0.0  0.0  0.039043  0.156124  0.273147  0.273096  0.170666  0.087924\n",
      "30    0.0  0.0  0.0  0.0  0.020411  0.102042  0.223615  0.280557  0.220431  0.152945\n",
      "35    0.0  0.0  0.0  0.0  0.010670  0.064873  0.173140  0.264950  0.254282  0.232085\n",
      "40    0.0  0.0  0.0  0.0  0.005578  0.040421  0.128737  0.235384  0.270259  0.319621\n",
      "45    0.0  0.0  0.0  0.0  0.002916  0.024804  0.092830  0.199667  0.269987  0.409796\n",
      "50    0.0  0.0  0.0  0.0  0.001524  0.015040  0.065351  0.163362  0.256982  0.497741\n",
      "\n",
      "\n",
      "Rolldown probabilities of roll_node_improved:\n",
      "LEVEL: 8\n",
      "COST: 4\n",
      "CONTESTED: 3\n",
      "UNCONTESTED: 18\n",
      "STARTING CURRENT: 6\n",
      "        0    1    2    3    4    5         6         7         8         9\n",
      "Roll                                                                      \n",
      "0     0.0  0.0  0.0  0.0  0.0  0.0  1.000000  0.000000  0.000000  0.000000\n",
      "5     0.0  0.0  0.0  0.0  0.0  0.0  0.776517  0.205494  0.017510  0.000480\n",
      "10    0.0  0.0  0.0  0.0  0.0  0.0  0.602978  0.332941  0.060470  0.003611\n",
      "15    0.0  0.0  0.0  0.0  0.0  0.0  0.468222  0.404804  0.115967  0.011007\n",
      "20    0.0  0.0  0.0  0.0  0.0  0.0  0.363583  0.437741  0.175319  0.023357\n",
      "25    0.0  0.0  0.0  0.0  0.0  0.0  0.282328  0.444028  0.232902  0.040743\n",
      "30    0.0  0.0  0.0  0.0  0.0  0.0  0.219232  0.432634  0.285276  0.062858\n",
      "35    0.0  0.0  0.0  0.0  0.0  0.0  0.170238  0.410055  0.330537  0.089170\n",
      "40    0.0  0.0  0.0  0.0  0.0  0.0  0.132192  0.380938  0.367839  0.119031\n",
      "45    0.0  0.0  0.0  0.0  0.0  0.0  0.102649  0.348554  0.397048  0.151748\n",
      "50    0.0  0.0  0.0  0.0  0.0  0.0  0.079709  0.315162  0.418487  0.186642\n"
     ]
    }
   ],
   "source": [
    "def display_rolldown_roll_node_improved(starting_current, contested, uncontested):\n",
    "    print('Rolldown probabilities of roll_node_improved:')\n",
    "    print('LEVEL: ' + str(level))\n",
    "    print('COST: ' + str(n_cost))\n",
    "    print('CONTESTED: ' + str(contested))\n",
    "    print('UNCONTESTED: ' + str(uncontested)) \n",
    "    print('STARTING CURRENT: ' + str(starting_current))\n",
    "    stochastic = generate_markov_chain(starting_current, contested, uncontested, roll_node_improved)\n",
    "\n",
    "    start = generate_starting_units(starting_current)\n",
    "    current_stochastic = np.identity(10)\n",
    "    rolls = 50\n",
    "    roll_down_data = np.zeros((rolls + 1, 10))\n",
    "    for i in range(rolls + 1):\n",
    "        roll_down_data[i] = np.matmul(start, current_stochastic)\n",
    "        current_stochastic = np.matmul(current_stochastic, stochastic)\n",
    "\n",
    "    roll_down = pd.DataFrame(roll_down_data)\n",
    "    roll_down.index.rename('Roll', inplace=True)\n",
    "    print(roll_down.iloc[::5, :])\n",
    "    \n",
    "starting_current = 4\n",
    "contested = 0\n",
    "uncontested = 18\n",
    "display_rolldown_roll_node_improved(starting_current, contested, uncontested)\n",
    "\n",
    "print('\\n')\n",
    "starting_current = 6\n",
    "contested = 3\n",
    "uncontested = 18\n",
    "display_rolldown_roll_node_improved(starting_current, contested, uncontested)"
   ]
  },
  {
   "cell_type": "code",
   "execution_count": null,
   "id": "b196204a-a5f6-424a-9e71-9d3f476c307b",
   "metadata": {},
   "outputs": [],
   "source": []
  },
  {
   "cell_type": "code",
   "execution_count": 144,
   "id": "e471c7b1-fe56-48ad-a79c-67198c135ee5",
   "metadata": {},
   "outputs": [
    {
     "data": {
      "image/png": "[encoded data removed]",
      "text/plain": [
       "<Figure size 432x288 with 1 Axes>"
      ]
     },
     "metadata": {
      "needs_background": "light"
     },
     "output_type": "display_data"
    }
   ],
   "source": [
    "def model_rolldown(level, n_cost, starting_units_num, current_contested, current_uncontested, n_rolls):\n",
    "    config_rolldown(level, n_cost)\n",
    "    start = generate_starting_units(starting_units_num)\n",
    "    stochastic = generate_markov_chain(0, current_contested, current_uncontested, roll_node_improved)\n",
    "    current_stochastic = np.identity(10)\n",
    "    rolldown_prob = np.zeros(n_rolls)\n",
    "    for i in range(n_rolls):\n",
    "        rolldown_prob[i] = np.matmul(start, current_stochastic)[len(current_stochastic) - 1]\n",
    "        current_stochastic = np.matmul(current_stochastic, stochastic)\n",
    "    return rolldown_prob\n",
    "    \n",
    "n_cost = 4\n",
    "starting_units_num = 7\n",
    "current_contested = 0\n",
    "current_uncontested = 27\n",
    "n_rolls = 100\n",
    "level_to_9_offset = 32 # 64 gold to level\n",
    "level8_rolldown_prob = model_rolldown(8, n_cost, starting_units_num, current_contested, current_uncontested, n_rolls)\n",
    "level9_rolldown_prob = model_rolldown(9, n_cost, starting_units_num, current_contested, current_uncontested, n_rolls)\n",
    "plt.plot(np.arange(n_rolls), level8_rolldown_prob, label=\"level 8\")\n",
    "plt.plot(np.arange(n_rolls), np.concatenate((np.zeros(level_to_9_offset), level9_rolldown_prob[:(n_rolls - level_to_9_offset)]), axis=None), label=\"level 9\")\n",
    "plt.legend()\n",
    "a = plt.ylim(0, 1)\n",
    "\n"
   ]
  },
  {
   "cell_type": "code",
   "execution_count": null,
   "id": "92655133-d39a-4ecd-8597-ba99e8c2274c",
   "metadata": {},
   "outputs": [],
   "source": []
  },
  {
   "cell_type": "code",
   "execution_count": null,
   "id": "13e95e02-3fe4-49bb-8cdb-915b47799e4a",
   "metadata": {},
   "outputs": [],
   "source": []
  },
  {
   "cell_type": "code",
   "execution_count": null,
   "id": "eb66ef08-bd53-415a-ae88-2a58d22fa993",
   "metadata": {},
   "outputs": [],
   "source": []
  },
  {
   "cell_type": "code",
   "execution_count": null,
   "id": "514370b5-9553-4d0f-8dcb-776776a4bc25",
   "metadata": {},
   "outputs": [],
   "source": []
  }
 ],
 "metadata": {
  "kernelspec": {
   "display_name": "Python 3",
   "language": "python",
   "name": "python3"
  },
  "language_info": {
   "codemirror_mode": {
    "name": "ipython",
    "version": 3
   },
   "file_extension": ".py",
   "mimetype": "text/x-python",
   "name": "python",
   "nbconvert_exporter": "python",
   "pygments_lexer": "ipython3",
   "version": "3.7.0"
  }
 },
 "nbformat": 4,
 "nbformat_minor": 5
}
