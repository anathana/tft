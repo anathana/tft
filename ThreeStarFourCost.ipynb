{
 "cells": [
  {
   "cell_type": "code",
   "execution_count": 42,
   "id": "324282eb-1f6d-4863-b2da-21f896d96395",
   "metadata": {},
   "outputs": [],
   "source": [
    "import numpy as np\n",
    "import pandas as pd\n",
    "from scipy.special import comb\n",
    "\n",
    "champion_data = pd.read_csv('data/tftset6champions.csv')\n",
    "rolling_probability_data = pd.read_json('data/rollprobability.json')\n",
    "unit_pool_data = pd.read_json('data/unitpool.json', typ='series')\n",
    "\n",
    "np.set_printoptions(linewidth=110)"
   ]
  },
  {
   "cell_type": "code",
   "execution_count": null,
   "id": "f4476bbe-d337-4b87-a983-9f4cc753e941",
   "metadata": {},
   "outputs": [],
   "source": []
  },
  {
   "cell_type": "code",
   "execution_count": 45,
   "id": "a95aad35-a15e-4431-95b0-862c49cf7081",
   "metadata": {},
   "outputs": [
    {
     "name": "stdout",
     "output_type": "stream",
     "text": [
      "0 [8.91043677e-01 1.04366440e-01 4.50051867e-03 8.85742814e-05 7.87641818e-07 2.50045021e-09] 0.9999999999999999\n",
      "1 [8.99005297e-01 9.70968902e-02 3.82904094e-03 6.82274421e-05 5.42518942e-07 1.51602100e-09] 1.0\n",
      "2 [9.07148309e-01 8.96012265e-02 3.19913356e-03 5.09736793e-05 3.56789963e-07 8.59734851e-10] 1.0\n",
      "3 [9.15478658e-01 8.18704887e-02 2.61396776e-03 3.66635647e-05 2.21295751e-07 4.47062122e-10] 0.9999999999999999\n",
      "4 [9.24002548e-01 7.38952807e-02 2.07692338e-03 2.51209975e-05 1.27124278e-07 2.06706143e-10] 0.9999999999999999\n",
      "5 [9.32726444e-01 6.56657463e-02 1.59160342e-03 1.61404223e-05 6.57426366e-08 8.06658117e-11] 1.0000000000000002\n",
      "6 [9.41657095e-01 5.71715420e-02 1.16184973e-03 9.48377369e-06 2.91502063e-08 2.39919393e-11] 0.9999999999999998\n",
      "7 [9.50801544e-01 4.84018087e-02 7.91759867e-04 4.87712306e-06 1.00557951e-08 4.16389030e-12] 1.0\n",
      "8 [9.60167145e-01 3.93451407e-02 4.85705311e-04 2.00699512e-06 2.08194515e-09 0.00000000e+00] 1.0\n"
     ]
    }
   ],
   "source": [
    "UNIT_MAX = None\n",
    "POOL_MAX = None\n",
    "P_N_COST = None\n",
    "DIST_N_COST = None\n",
    "\n",
    "def config_rolldown(level, n_cost):\n",
    "    global UNIT_MAX, POOL_MAX, P_N_COST, DIST_N_COST\n",
    "    UNIT_MAX = unit_pool_data[n_cost]\n",
    "    POOL_MAX = UNIT_MAX * champion_data[champion_data['cost'] == n_cost]['cost'].size\n",
    "    P_N_COST = rolling_probability_data[level][n_cost - 1]\n",
    "    DIST_N_COST = binary_dist(5, P_N_COST)\n",
    "    \n",
    "def binary_dist(n, p):\n",
    "    prob_density = np.zeros(n + 1)\n",
    "    for k in range(n + 1):\n",
    "        prob_density[k] = comb(n, k) * np.power(p, k) * np.power(1 - p, n - k)\n",
    "    return prob_density\n",
    "\n",
    "# row is number of unit pulled from bag, column is number of hits\n",
    "def bag_dist(n, pool, unit):\n",
    "    prob_density = np.zeros((n + 1, n + 1))\n",
    "    for i in range(prob_density.shape[0]):\n",
    "        for j in range(prob_density.shape[1]):\n",
    "            prob_density[i][j] = comb(unit, j) * comb(pool - unit, i - j) / comb(pool, i)\n",
    "    return prob_density\n",
    "\n",
    "def roll_node_naive(level, current, n_cost):\n",
    "    bag_dist_array = bag_dist(5, POOL_MAX - current, UNIT_MAX - current)\n",
    "    hit_dist_array = np.matmul(DIST_N_COST, bag_dist_array)\n",
    "    return hit_dist_array\n",
    "\n",
    "level = 8\n",
    "n_cost = 4\n",
    "config_rolldown(level, n_cost)\n",
    "for current in np.arange(9):\n",
    "    roll_node_dist = roll_node_naive(level, current, n_cost)\n",
    "    print(current, roll_node_dist, np.sum(roll_node_dist))\n"
   ]
  },
  {
   "cell_type": "code",
   "execution_count": null,
   "id": "25e2e1ed-5e9f-4365-8bec-974f6a20a7da",
   "metadata": {},
   "outputs": [],
   "source": []
  },
  {
   "cell_type": "code",
   "execution_count": 51,
   "id": "b649adfa-285c-4209-93a8-db44dfbcf9cb",
   "metadata": {},
   "outputs": [
    {
     "name": "stdout",
     "output_type": "stream",
     "text": [
      "UNCONTESTED\n",
      "0 [8.64516444e-01 1.28289320e-01 7.01688254e-03 1.75362590e-04 1.98244098e-06 8.00986253e-09] 1.0\n",
      "1 [8.74066320e-01 1.19794607e-01 6.00167418e-03 1.36016477e-04 1.37719574e-06 4.90604080e-09] 1.0\n",
      "2 [8.83889764e-01 1.10965424e-01 5.04155704e-03 1.02338814e-04 9.13631840e-07 2.81117489e-09] 0.9999999999999999\n",
      "3 [8.93998102e-01 1.01784965e-01 4.14221930e-03 7.41398326e-05 5.71715522e-07 1.47730109e-09] 0.9999999999999998\n",
      "4 [9.04403274e-01 9.22353877e-02 3.30983301e-03 5.11727351e-05 3.31402802e-07 6.90422503e-10] 1.0\n",
      "5 [9.15117869e-01 8.22977348e-02 2.55109738e-03 3.31257435e-05 1.72969716e-07 2.72393253e-10] 1.0\n",
      "6 [9.26155170e-01 7.19518533e-02 1.87328650e-03 1.96131335e-05 7.74170299e-08 8.19227829e-11] 1.0\n",
      "7 [9.37529203e-01 6.11763035e-02 1.28430169e-03 1.01651227e-05 2.69626181e-08 1.43800630e-11] 1.0\n",
      "8 [9.49254787e-01 4.99482615e-02 7.92729156e-04 4.21646454e-06 5.63698468e-09 0.00000000e+00] 1.0\n",
      "CONTESTED\n",
      "0 [8.93998102e-01 1.01784965e-01 4.14221930e-03 7.41398326e-05 5.71715522e-07 1.47730109e-09] 0.9999999999999998\n",
      "1 [9.04403274e-01 9.22353877e-02 3.30983301e-03 5.11727351e-05 3.31402802e-07 6.90422503e-10] 1.0\n",
      "2 [9.15117869e-01 8.22977348e-02 2.55109738e-03 3.31257435e-05 1.72969716e-07 2.72393253e-10] 1.0\n",
      "3 [9.26155170e-01 7.19518533e-02 1.87328650e-03 1.96131335e-05 7.74170299e-08 8.19227829e-11] 1.0\n",
      "4 [9.37529203e-01 6.11763035e-02 1.28430169e-03 1.01651227e-05 2.69626181e-08 1.43800630e-11] 1.0\n",
      "5 [9.49254787e-01 4.99482615e-02 7.92729156e-04 4.21646454e-06 5.63698468e-09 0.00000000e+00] 1.0\n",
      "6 [9.61347591e-01 3.82434123e-02 4.07903485e-04 1.09357503e-06 0.00000000e+00 0.00000000e+00] 1.0\n",
      "7 [9.73824188e-01 2.60358343e-02 1.39977604e-04 0.00000000e+00 0.00000000e+00 0.00000000e+00] 1.0\n",
      "8 [0.98670213 0.01329787 0.         0.         0.         0.        ] 1.0\n"
     ]
    }
   ],
   "source": [
    "def roll_node_improved(level, current, current_contested, current_uncontested, n_cost):\n",
    "    bag_dist_array = bag_dist(5, POOL_MAX - current - current_contested - current_uncontested, UNIT_MAX - current - current_contested)\n",
    "    hit_dist_array = np.matmul(DIST_N_COST, bag_dist_array)\n",
    "    return hit_dist_array\n",
    "\n",
    "level = 8\n",
    "n_cost = 4\n",
    "config_rolldown(level, n_cost)\n",
    "print(\"UNCONTESTED\")\n",
    "for current in np.arange(9):\n",
    "    roll_node_dist = roll_node_improved(level, current, 0, 27, n_cost)\n",
    "    print(current, roll_node_dist, np.sum(roll_node_dist))\n",
    "print(\"CONTESTED\")\n",
    "for current in np.arange(9):\n",
    "    roll_node_dist = roll_node_improved(level, current, 3, 27, n_cost)\n",
    "    print(current, roll_node_dist, np.sum(roll_node_dist))"
   ]
  },
  {
   "cell_type": "code",
   "execution_count": null,
   "id": "ffa98e67-22f1-470b-9841-eb641d0af718",
   "metadata": {},
   "outputs": [],
   "source": []
  },
  {
   "cell_type": "code",
   "execution_count": null,
   "id": "ab4c87bb-4717-46da-a580-4434ceb28af9",
   "metadata": {},
   "outputs": [],
   "source": []
  }
 ],
 "metadata": {
  "kernelspec": {
   "display_name": "Python 3",
   "language": "python",
   "name": "python3"
  },
  "language_info": {
   "codemirror_mode": {
    "name": "ipython",
    "version": 3
   },
   "file_extension": ".py",
   "mimetype": "text/x-python",
   "name": "python",
   "nbconvert_exporter": "python",
   "pygments_lexer": "ipython3",
   "version": "3.7.0"
  }
 },
 "nbformat": 4,
 "nbformat_minor": 5
}
