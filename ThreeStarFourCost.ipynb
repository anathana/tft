{
 "cells": [
  {
   "cell_type": "code",
   "execution_count": 16,
   "id": "324282eb-1f6d-4863-b2da-21f896d96395",
   "metadata": {},
   "outputs": [],
   "source": [
    "import numpy as np\n",
    "import pandas as pd\n",
    "\n",
    "champion_data = pd.read_csv('data/tftset6champions.csv')\n",
    "rolling_probability_data = pd.read_json('data/rollprobability.json')\n",
    "unit_pool_data = pd.read_json('data/unitpool.json', typ='series')"
   ]
  },
  {
   "cell_type": "code",
   "execution_count": 5,
   "id": "f4476bbe-d337-4b87-a983-9f4cc753e941",
   "metadata": {},
   "outputs": [
    {
     "name": "stdout",
     "output_type": "stream",
     "text": [
      "   1   2     3     4     5     6     7     8     9     10    11\n",
      "0   1   1  0.75  0.55  0.45  0.25  0.19  0.15  0.10  0.05  0.01\n",
      "1   0   0  0.25  0.30  0.33  0.40  0.30  0.20  0.15  0.10  0.02\n",
      "2   0   0  0.00  0.15  0.20  0.30  0.35  0.35  0.30  0.20  0.12\n",
      "3   0   0  0.00  0.00  0.20  0.50  0.15  0.25  0.30  0.40  0.50\n",
      "4   0   0  0.00  0.00  0.00  0.00  0.01  0.05  0.15  0.25  0.35\n"
     ]
    }
   ],
   "source": []
  },
  {
   "cell_type": "code",
   "execution_count": 52,
   "id": "a95aad35-a15e-4431-95b0-862c49cf7081",
   "metadata": {},
   "outputs": [
    {
     "name": "stdout",
     "output_type": "stream",
     "text": [
      "0.022727272727272728\n"
     ]
    }
   ],
   "source": [
    "UNIT_MAX = None\n",
    "POOL_MAX = None\n",
    "P_N_COST = None\n",
    "\n",
    "def config_rolldown(level, n_cost):\n",
    "    global UNIT_MAX, POOL_MAX, P_N_COST\n",
    "    UNIT_MAX = unit_pool_data[n_cost]\n",
    "    POOL_MAX = UNIT_MAX * champion_data[champion_data['cost'] == n_cost]['cost'].size\n",
    "    P_N_COST = rolling_probability_data[level][n_cost - 1]\n",
    "    \n",
    "\n",
    "def roll_node_naive(level, current, n_cost):\n",
    "    pHit1 = P_N_COST * (UNIT_MAX - current) / POOL_MAX\n",
    "    pHit2 = \n",
    "    print(pHit1)\n",
    "    \n",
    "\n",
    "#def model_naive(level, current_num):\n",
    "level = 8\n",
    "n_cost = 4\n",
    "config_rolldown(level, n_cost)\n",
    "roll_node_naive(level, 0, n_cost)\n",
    "    "
   ]
  },
  {
   "cell_type": "code",
   "execution_count": null,
   "id": "25e2e1ed-5e9f-4365-8bec-974f6a20a7da",
   "metadata": {},
   "outputs": [],
   "source": []
  }
 ],
 "metadata": {
  "kernelspec": {
   "display_name": "Python 3",
   "language": "python",
   "name": "python3"
  },
  "language_info": {
   "codemirror_mode": {
    "name": "ipython",
    "version": 3
   },
   "file_extension": ".py",
   "mimetype": "text/x-python",
   "name": "python",
   "nbconvert_exporter": "python",
   "pygments_lexer": "ipython3",
   "version": "3.7.0"
  }
 },
 "nbformat": 4,
 "nbformat_minor": 5
}
