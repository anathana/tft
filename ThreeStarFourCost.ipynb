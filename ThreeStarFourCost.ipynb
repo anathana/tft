{
 "cells": [
  {
   "cell_type": "code",
   "execution_count": 2,
   "id": "324282eb-1f6d-4863-b2da-21f896d96395",
   "metadata": {},
   "outputs": [],
   "source": [
    "import numpy as np\n",
    "import pandas as pd\n",
    "import math\n",
    "\n",
    "champion_data = pd.read_csv('data/tftset6champions.csv')\n",
    "rolling_probability_data = pd.read_json('data/rollprobability.json')\n",
    "unit_pool_data = pd.read_json('data/unitpool.json', typ='series')"
   ]
  },
  {
   "cell_type": "code",
   "execution_count": null,
   "id": "f4476bbe-d337-4b87-a983-9f4cc753e941",
   "metadata": {},
   "outputs": [],
   "source": []
  },
  {
   "cell_type": "code",
   "execution_count": 20,
   "id": "a95aad35-a15e-4431-95b0-862c49cf7081",
   "metadata": {},
   "outputs": [
    {
     "name": "stdout",
     "output_type": "stream",
     "text": [
      "[1.         0.5        0.16666667]\n"
     ]
    }
   ],
   "source": [
    "UNIT_MAX = None\n",
    "POOL_MAX = None\n",
    "P_N_COST = None\n",
    "DIST_N_COST = None\n",
    "\n",
    "def config_rolldown(level, n_cost):\n",
    "    global UNIT_MAX, POOL_MAX, P_N_COST, DIST_N_COST\n",
    "    UNIT_MAX = unit_pool_data[n_cost]\n",
    "    POOL_MAX = UNIT_MAX * champion_data[champion_data['cost'] == n_cost]['cost'].size\n",
    "    P_N_COST = rolling_probability_data[level][n_cost - 1]\n",
    "    DIST_N_COST = binary_dist(5, P_N_COST)\n",
    "    \n",
    "def binary_dist(n, p):\n",
    "    prob_density = np.zeros(n + 1)\n",
    "    for k in range(n + 1):\n",
    "        prob_density[k] = math.comb(n, k) * np.power(p, k) * np.power(1 - p, n - k)\n",
    "    return prob_density\n",
    "\n",
    "def bag_dist(n, k):\n",
    "    prob_density = np.zeros(k + 1)\n",
    "    for i in range(k + 1):\n",
    "        prob_density[i] = math.comb(k, i) / math.comb(n, i)\n",
    "    return prob_density\n",
    "\n",
    "def roll_node_naive(level, current, n_cost):\n",
    "    print(DIST_N_COST)\n",
    "    p_n_hit = np.zeros(6)\n",
    "    for i in range(len(DIST_N_COST)):\n",
    "        p_n_cost = DIST_N_COST[i]\n",
    "        #hit_dist = binary_dist(i, )\n",
    "        #hit2 = math.comb()\n",
    "        \n",
    "\n",
    "#def model_naive(level, current_num):\n",
    "level = 8\n",
    "n_cost = 4\n",
    "config_rolldown(level, n_cost)\n",
    "#roll_node_naive(level, 0, n_cost)\n",
    "print(bag_dist(4, 2))\n",
    "    "
   ]
  },
  {
   "cell_type": "code",
   "execution_count": null,
   "id": "25e2e1ed-5e9f-4365-8bec-974f6a20a7da",
   "metadata": {},
   "outputs": [],
   "source": []
  }
 ],
 "metadata": {
  "kernelspec": {
   "display_name": "Python 3 (ipykernel)",
   "language": "python",
   "name": "python3"
  },
  "language_info": {
   "codemirror_mode": {
    "name": "ipython",
    "version": 3
   },
   "file_extension": ".py",
   "mimetype": "text/x-python",
   "name": "python",
   "nbconvert_exporter": "python",
   "pygments_lexer": "ipython3",
   "version": "3.9.9"
  }
 },
 "nbformat": 4,
 "nbformat_minor": 5
}
